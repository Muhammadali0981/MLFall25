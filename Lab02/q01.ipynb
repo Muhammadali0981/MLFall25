{
 "cells": [
  {
   "cell_type": "code",
   "execution_count": 2,
   "id": "c73e6dbc",
   "metadata": {},
   "outputs": [],
   "source": [
    "import pandas as pd\n",
    "import numpy as np\n",
    "import matplotlib.pyplot as plt\n",
    "import seaborn as sns"
   ]
  },
  {
   "cell_type": "code",
   "execution_count": null,
   "id": "cf799cba",
   "metadata": {},
   "outputs": [
    {
     "name": "stdout",
     "output_type": "stream",
     "text": [
      "\n",
      "\n",
      "Index(['fid', 'name', 'population', 'county', 'latitude', 'longitude', 'level',\n",
      "       'enrollment', 'level.1'],\n",
      "      dtype='object')\n",
      "(27033, 9)\n",
      "\n",
      "============================================================================================================================================\n",
      "\n",
      "\n",
      "Index(['fid', 'name', 'population', 'county', 'latitude', 'city', 'score'], dtype='object')\n",
      "(4221333, 7)\n",
      "\n",
      "============================================================================================================================================\n",
      "\n",
      "\n"
     ]
    }
   ],
   "source": [
    "df1 = pd.read_csv(\"Lab2 D1A.csv\")\n",
    "df2 = pd.read_csv(\"Lab2 D1B.csv\")\n",
    "df3 = pd.read_csv(\"Lab2 D1C.csv\")\n",
    "\n",
    "print(\"\\n\")\n",
    "merged_df1_df2 = pd.merge(df1,df2,how='inner')\n",
    "print(f\"{merged_df1_df2.columns}\\n{merged_df1_df2.shape}\")\n",
    "\n",
    "\n",
    "merged_df1_df3 = pd.merge(df1,df3,how='inner')\n",
    "print(f\"{merged_df1_df3.columns}\\n{merged_df1_df3.shape}\")\n"
   ]
  }
 ],
 "metadata": {
  "kernelspec": {
   "display_name": "Python 3",
   "language": "python",
   "name": "python3"
  },
  "language_info": {
   "codemirror_mode": {
    "name": "ipython",
    "version": 3
   },
   "file_extension": ".py",
   "mimetype": "text/x-python",
   "name": "python",
   "nbconvert_exporter": "python",
   "pygments_lexer": "ipython3",
   "version": "3.11.8"
  }
 },
 "nbformat": 4,
 "nbformat_minor": 5
}
